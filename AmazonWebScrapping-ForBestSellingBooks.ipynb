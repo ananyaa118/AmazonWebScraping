{
 "cells": [
  {
   "cell_type": "code",
   "execution_count": 1,
   "id": "45499221",
   "metadata": {},
   "outputs": [],
   "source": [
    "from bs4 import BeautifulSoup\n",
    "import requests\n",
    "import pandas as pd"
   ]
  },
  {
   "cell_type": "code",
   "execution_count": 2,
   "id": "012d3b7c",
   "metadata": {},
   "outputs": [],
   "source": [
    "# connect to website\n",
    "URL = 'https://www.amazon.in/s?k=best+seller+books&i=stripbooks&rh=n%3A1318160031%2Cp_n_feature_three_browse-bin%3A9141482031%2Cp_n_condition-type%3A8609960031&dc&qid=1653302841&rnid=8609959031&sprefix=best+se%2Cstripbooks%2C387&ref=sr_nr_p_n_condition-type_1'\n",
    "headers = {\"User-Agent\": \"Mozilla/5.0 (Windows NT 10.0; Win64; x64) AppleWebKit/537.36 (KHTML, like Gecko) Chrome/101.0.4951.67 Safari/537.36\"}\n",
    "\n",
    "page = requests.get(URL, headers=headers)\n",
    "soup1 = BeautifulSoup(page.content, 'html.parser')\n",
    "soup2 = BeautifulSoup(soup1.prettify(), 'html.parser')"
   ]
  },
  {
   "cell_type": "code",
   "execution_count": 3,
   "id": "35a6623e",
   "metadata": {},
   "outputs": [],
   "source": [
    "results = soup2.find_all('div', attrs={'data-component-type':'s-search-result'})"
   ]
  },
  {
   "cell_type": "code",
   "execution_count": 4,
   "id": "be284737",
   "metadata": {},
   "outputs": [
    {
     "data": {
      "text/plain": [
       "16"
      ]
     },
     "execution_count": 4,
     "metadata": {},
     "output_type": "execute_result"
    }
   ],
   "source": [
    "len(results)"
   ]
  },
  {
   "cell_type": "code",
   "execution_count": 5,
   "id": "fab9e24f",
   "metadata": {},
   "outputs": [],
   "source": [
    "item = results[1]"
   ]
  },
  {
   "cell_type": "code",
   "execution_count": 6,
   "id": "e2b04d53",
   "metadata": {},
   "outputs": [
    {
     "name": "stdout",
     "output_type": "stream",
     "text": [
      "The Alchemist\n"
     ]
    }
   ],
   "source": [
    "details_col = item.find('div', attrs={'class':'sg-col sg-col-4-of-12 sg-col-8-of-16 sg-col-12-of-20 s-list-col-right'})\n",
    "title = details_col.h2.span.get_text()\n",
    "title = title.strip()\n",
    "print(title)"
   ]
  },
  {
   "cell_type": "code",
   "execution_count": 7,
   "id": "08411b32",
   "metadata": {},
   "outputs": [
    {
     "name": "stdout",
     "output_type": "stream",
     "text": [
      "https://www.amazon.in/Alchemist-Paulo-Coelho/dp/8172234988/ref=sr_1_2?keywords=best+seller+books&qid=1653311025&refinements=p_n_feature_three_browse-bin%3A9141482031%2Cp_n_condition-type%3A8609960031&rnid=8609959031&s=books&sprefix=best+se%2Cstripbooks%2C387&sr=1-2\n"
     ]
    }
   ],
   "source": [
    "url = 'https://www.amazon.in' + details_col.h2.a.get('href')\n",
    "print(url)"
   ]
  },
  {
   "cell_type": "code",
   "execution_count": 8,
   "id": "affe11e7",
   "metadata": {},
   "outputs": [
    {
     "name": "stdout",
     "output_type": "stream",
     "text": [
      "227\n"
     ]
    }
   ],
   "source": [
    "price = details_col.find('span', attrs={'class': 'a-price-whole'}).get_text()\n",
    "price = price.strip()\n",
    "print(price)"
   ]
  },
  {
   "cell_type": "code",
   "execution_count": 9,
   "id": "47564bbb",
   "metadata": {},
   "outputs": [
    {
     "name": "stdout",
     "output_type": "stream",
     "text": [
      "Paulo Coelho\n"
     ]
    }
   ],
   "source": [
    "author = details_col.find('a', attrs={'class': 'a-size-base a-link-normal s-light-weight-text s-underline-text s-underline-link-text s-link-style s-link-centralized-style'}).get_text()\n",
    "author = author.strip()\n",
    "print(author)"
   ]
  },
  {
   "cell_type": "code",
   "execution_count": 10,
   "id": "58dbcfea",
   "metadata": {},
   "outputs": [
    {
     "name": "stdout",
     "output_type": "stream",
     "text": [
      "Paperback\n"
     ]
    }
   ],
   "source": [
    "book_format = details_col.find('div', attrs={'class': 'a-row a-spacing-mini a-size-base a-color-base'}).a.get_text()\n",
    "book_format = book_format.strip()\n",
    "print(book_format)"
   ]
  },
  {
   "cell_type": "code",
   "execution_count": 11,
   "id": "78eae518",
   "metadata": {},
   "outputs": [
    {
     "name": "stdout",
     "output_type": "stream",
     "text": [
      "4.6 out of 5 stars\n"
     ]
    }
   ],
   "source": [
    "rating = details_col.i.span.get_text()\n",
    "rating = rating.strip()\n",
    "print(rating)"
   ]
  },
  {
   "cell_type": "code",
   "execution_count": 12,
   "id": "40144257",
   "metadata": {},
   "outputs": [
    {
     "name": "stdout",
     "output_type": "stream",
     "text": [
      "78,717\n"
     ]
    }
   ],
   "source": [
    "ratings_count = (details_col.find('div', attrs={'class':'a-section a-spacing-none a-spacing-top-micro'})).find('span', attrs={'class':'a-size-base s-light-weight-text'}).get_text()\n",
    "ratings_count = ratings_count.strip()\n",
    "print(ratings_count)"
   ]
  },
  {
   "cell_type": "code",
   "execution_count": 13,
   "id": "22df548a",
   "metadata": {},
   "outputs": [],
   "source": [
    "def get_record(item):\n",
    "    \n",
    "    details_col = item.find('div', attrs={'class':'sg-col sg-col-4-of-12 sg-col-8-of-16 sg-col-12-of-20 s-list-col-right'})\n",
    "    \n",
    "    title = details_col.h2.span.get_text()\n",
    "    title = title.strip()\n",
    "    \n",
    "    try:\n",
    "        author = details_col.find('a', attrs={'class': 'a-size-base a-link-normal s-light-weight-text s-underline-text s-underline-link-text s-link-style s-link-centralized-style'}).get_text()\n",
    "        author = author.strip()\n",
    "    except AttributeError:\n",
    "        author = ''\n",
    "    \n",
    "    try:\n",
    "        price = details_col.find('span', attrs={'class': 'a-price-whole'})\n",
    "        price = price.get_text()\n",
    "        price = price.strip()\n",
    "    except AttributeError:\n",
    "        price = ''\n",
    "    \n",
    "    try:\n",
    "        rating = details_col.i.span.get_text()\n",
    "        rating = rating.strip()\n",
    "        rating = rating[0:3]\n",
    "    except AttributeError:\n",
    "        rating = ''\n",
    "    \n",
    "    try:\n",
    "        ratings_count = (details_col.find('div', attrs={'class':'a-section a-spacing-none a-spacing-top-micro'})).find('span', attrs={'class':'a-size-base s-light-weight-text'}).get_text()\n",
    "        ratings_count = ratings_count.strip()\n",
    "    except AttributeError:\n",
    "        ratings_count = ''\n",
    "    \n",
    "    book_format = details_col.find('div', attrs={'class': 'a-row a-spacing-mini a-size-base a-color-base'}).a.get_text()\n",
    "    book_format = book_format.strip()\n",
    "\n",
    "    url = 'https://www.amazon.in' + details_col.h2.a.get('href')\n",
    "        \n",
    "    return (title, author, price, book_format, rating, ratings_count, url)"
   ]
  },
  {
   "cell_type": "code",
   "execution_count": 14,
   "id": "5de98b50",
   "metadata": {},
   "outputs": [
    {
     "data": {
      "text/plain": [
       "('The Alchemist',\n",
       " 'Paulo Coelho',\n",
       " '227',\n",
       " 'Paperback',\n",
       " '4.6',\n",
       " '78,717',\n",
       " 'https://www.amazon.in/Alchemist-Paulo-Coelho/dp/8172234988/ref=sr_1_2?keywords=best+seller+books&qid=1653311025&refinements=p_n_feature_three_browse-bin%3A9141482031%2Cp_n_condition-type%3A8609960031&rnid=8609959031&s=books&sprefix=best+se%2Cstripbooks%2C387&sr=1-2')"
      ]
     },
     "execution_count": 14,
     "metadata": {},
     "output_type": "execute_result"
    }
   ],
   "source": [
    "get_record(results[1])"
   ]
  },
  {
   "cell_type": "code",
   "execution_count": 15,
   "id": "c74c04fa",
   "metadata": {},
   "outputs": [],
   "source": [
    "records = []\n",
    "results = soup2.find_all('div', attrs={'data-component-type':'s-search-result'})\n",
    "for item in results:\n",
    "    records.append(get_record(item))"
   ]
  },
  {
   "cell_type": "code",
   "execution_count": 16,
   "id": "b07a03ab",
   "metadata": {
    "scrolled": false
   },
   "outputs": [
    {
     "data": {
      "text/html": [
       "<div>\n",
       "<style scoped>\n",
       "    .dataframe tbody tr th:only-of-type {\n",
       "        vertical-align: middle;\n",
       "    }\n",
       "\n",
       "    .dataframe tbody tr th {\n",
       "        vertical-align: top;\n",
       "    }\n",
       "\n",
       "    .dataframe thead th {\n",
       "        text-align: right;\n",
       "    }\n",
       "</style>\n",
       "<table border=\"1\" class=\"dataframe\">\n",
       "  <thead>\n",
       "    <tr style=\"text-align: right;\">\n",
       "      <th></th>\n",
       "      <th>0</th>\n",
       "      <th>1</th>\n",
       "      <th>2</th>\n",
       "      <th>3</th>\n",
       "      <th>4</th>\n",
       "      <th>5</th>\n",
       "      <th>6</th>\n",
       "    </tr>\n",
       "  </thead>\n",
       "  <tbody>\n",
       "    <tr>\n",
       "      <th>0</th>\n",
       "      <td>As a Man Thinketh</td>\n",
       "      <td>James Allen</td>\n",
       "      <td>69</td>\n",
       "      <td>Paperback</td>\n",
       "      <td>4.4</td>\n",
       "      <td>8,074</td>\n",
       "      <td>https://www.amazon.in/As-Man-Thinketh-James-Al...</td>\n",
       "    </tr>\n",
       "    <tr>\n",
       "      <th>1</th>\n",
       "      <td>The Alchemist</td>\n",
       "      <td>Paulo Coelho</td>\n",
       "      <td>227</td>\n",
       "      <td>Paperback</td>\n",
       "      <td>4.6</td>\n",
       "      <td>78,717</td>\n",
       "      <td>https://www.amazon.in/Alchemist-Paulo-Coelho/d...</td>\n",
       "    </tr>\n",
       "    <tr>\n",
       "      <th>2</th>\n",
       "      <td>That Night: Four Friends. Twenty Years. One Ha...</td>\n",
       "      <td>Nidhi Upadhyay</td>\n",
       "      <td>206</td>\n",
       "      <td>Paperback</td>\n",
       "      <td>4.3</td>\n",
       "      <td>910</td>\n",
       "      <td>https://www.amazon.in/That-Night-Friends-Haunt...</td>\n",
       "    </tr>\n",
       "    <tr>\n",
       "      <th>3</th>\n",
       "      <td>You Only Live Once: One for Passion Two for Lo...</td>\n",
       "      <td>Stuti Changle</td>\n",
       "      <td>247</td>\n",
       "      <td>Paperback</td>\n",
       "      <td>4.4</td>\n",
       "      <td>2,436</td>\n",
       "      <td>https://www.amazon.in/You-Only-Live-Once-Frien...</td>\n",
       "    </tr>\n",
       "    <tr>\n",
       "      <th>4</th>\n",
       "      <td>All the Light We Cannot See: The Breathtaking ...</td>\n",
       "      <td>Anthony Doerr</td>\n",
       "      <td>299\\n                            \\n           ...</td>\n",
       "      <td>Kindle Edition</td>\n",
       "      <td>4.5</td>\n",
       "      <td>55,520</td>\n",
       "      <td>https://www.amazon.in/All-Light-We-Cannot-See-...</td>\n",
       "    </tr>\n",
       "    <tr>\n",
       "      <th>5</th>\n",
       "      <td>About a Girl: Book 1 (Tess Brookes Series)</td>\n",
       "      <td>Lindsey Kelk</td>\n",
       "      <td>399</td>\n",
       "      <td>Mass Market Paperback</td>\n",
       "      <td>4.6</td>\n",
       "      <td>602</td>\n",
       "      <td>https://www.amazon.in/About-Girl-Tess-Brookes-...</td>\n",
       "    </tr>\n",
       "    <tr>\n",
       "      <th>6</th>\n",
       "      <td>Journey to the Centre of the Earth</td>\n",
       "      <td>Jules Verne</td>\n",
       "      <td>109</td>\n",
       "      <td>Paperback</td>\n",
       "      <td>4.4</td>\n",
       "      <td>4,435</td>\n",
       "      <td>https://www.amazon.in/Journey-Centre-Earth-Jul...</td>\n",
       "    </tr>\n",
       "    <tr>\n",
       "      <th>7</th>\n",
       "      <td>A Gentleman in Moscow: The worldwide bestseller</td>\n",
       "      <td>Amor Towles</td>\n",
       "      <td>240\\n                            \\n           ...</td>\n",
       "      <td>Kindle Edition</td>\n",
       "      <td>4.5</td>\n",
       "      <td>38,723</td>\n",
       "      <td>https://www.amazon.in/Gentleman-Moscow-Amor-To...</td>\n",
       "    </tr>\n",
       "    <tr>\n",
       "      <th>8</th>\n",
       "      <td>The Best of Paulo Coelho - (5 Book Slip Case)</td>\n",
       "      <td>Paulo Coelho</td>\n",
       "      <td>940</td>\n",
       "      <td>Paperback</td>\n",
       "      <td>4.7</td>\n",
       "      <td>177</td>\n",
       "      <td>https://www.amazon.in/Best-Paulo-Coelho-Book-S...</td>\n",
       "    </tr>\n",
       "    <tr>\n",
       "      <th>9</th>\n",
       "      <td>The Secret Messenger: The gripping historical ...</td>\n",
       "      <td>Mandy Robotham</td>\n",
       "      <td>312</td>\n",
       "      <td>Paperback</td>\n",
       "      <td>4.5</td>\n",
       "      <td>3,660</td>\n",
       "      <td>https://www.amazon.in/Secret-Messenger-Mandy-R...</td>\n",
       "    </tr>\n",
       "    <tr>\n",
       "      <th>10</th>\n",
       "      <td>Anxious People: The No. 1 New York Times bests...</td>\n",
       "      <td>Fredrik Backman</td>\n",
       "      <td>257\\n                            \\n           ...</td>\n",
       "      <td>Kindle Edition</td>\n",
       "      <td>4.6</td>\n",
       "      <td>38,172</td>\n",
       "      <td>https://www.amazon.in/Anxious-People-comfortin...</td>\n",
       "    </tr>\n",
       "    <tr>\n",
       "      <th>11</th>\n",
       "      <td>The Paper Palace: The No.1 New York Times Best...</td>\n",
       "      <td>Miranda Cowley Heller</td>\n",
       "      <td>309\\n                              \\n         ...</td>\n",
       "      <td>Paperback</td>\n",
       "      <td>4.2</td>\n",
       "      <td>17,083</td>\n",
       "      <td>https://www.amazon.in/Paper-Palace-Bestseller-...</td>\n",
       "    </tr>\n",
       "    <tr>\n",
       "      <th>12</th>\n",
       "      <td>Girl A: The Sunday Times and New York Times gl...</td>\n",
       "      <td>Abigail Dean</td>\n",
       "      <td>305</td>\n",
       "      <td>Paperback</td>\n",
       "      <td>4.1</td>\n",
       "      <td>15,171</td>\n",
       "      <td>https://www.amazon.in/Girl-astonishing-thrille...</td>\n",
       "    </tr>\n",
       "    <tr>\n",
       "      <th>13</th>\n",
       "      <td>The Mad Women's Ball: The prize-winning, inter...</td>\n",
       "      <td>Victoria Mas</td>\n",
       "      <td>391</td>\n",
       "      <td>Paperback</td>\n",
       "      <td>4.1</td>\n",
       "      <td>1,045</td>\n",
       "      <td>https://www.amazon.in/Mad-Womens-Ball-Sunday-F...</td>\n",
       "    </tr>\n",
       "    <tr>\n",
       "      <th>14</th>\n",
       "      <td>THE MAID: The instant Sunday Times and the No....</td>\n",
       "      <td>Nita Prose</td>\n",
       "      <td>354</td>\n",
       "      <td>Paperback</td>\n",
       "      <td>4.2</td>\n",
       "      <td>27,249</td>\n",
       "      <td>https://www.amazon.in/MAID-instant-bestseller-...</td>\n",
       "    </tr>\n",
       "    <tr>\n",
       "      <th>15</th>\n",
       "      <td>The Start of Something: the new heartwarming r...</td>\n",
       "      <td>Miranda Dickinson</td>\n",
       "      <td>376</td>\n",
       "      <td>Paperback</td>\n",
       "      <td>4.3</td>\n",
       "      <td>768</td>\n",
       "      <td>https://www.amazon.in/Start-Something-utterly-...</td>\n",
       "    </tr>\n",
       "  </tbody>\n",
       "</table>\n",
       "</div>"
      ],
      "text/plain": [
       "                                                    0                      1  \\\n",
       "0                                   As a Man Thinketh            James Allen   \n",
       "1                                       The Alchemist           Paulo Coelho   \n",
       "2   That Night: Four Friends. Twenty Years. One Ha...         Nidhi Upadhyay   \n",
       "3   You Only Live Once: One for Passion Two for Lo...          Stuti Changle   \n",
       "4   All the Light We Cannot See: The Breathtaking ...          Anthony Doerr   \n",
       "5          About a Girl: Book 1 (Tess Brookes Series)           Lindsey Kelk   \n",
       "6                  Journey to the Centre of the Earth            Jules Verne   \n",
       "7     A Gentleman in Moscow: The worldwide bestseller            Amor Towles   \n",
       "8       The Best of Paulo Coelho - (5 Book Slip Case)           Paulo Coelho   \n",
       "9   The Secret Messenger: The gripping historical ...         Mandy Robotham   \n",
       "10  Anxious People: The No. 1 New York Times bests...        Fredrik Backman   \n",
       "11  The Paper Palace: The No.1 New York Times Best...  Miranda Cowley Heller   \n",
       "12  Girl A: The Sunday Times and New York Times gl...           Abigail Dean   \n",
       "13  The Mad Women's Ball: The prize-winning, inter...           Victoria Mas   \n",
       "14  THE MAID: The instant Sunday Times and the No....             Nita Prose   \n",
       "15  The Start of Something: the new heartwarming r...      Miranda Dickinson   \n",
       "\n",
       "                                                    2                      3  \\\n",
       "0                                                  69              Paperback   \n",
       "1                                                 227              Paperback   \n",
       "2                                                 206              Paperback   \n",
       "3                                                 247              Paperback   \n",
       "4   299\\n                            \\n           ...         Kindle Edition   \n",
       "5                                                 399  Mass Market Paperback   \n",
       "6                                                 109              Paperback   \n",
       "7   240\\n                            \\n           ...         Kindle Edition   \n",
       "8                                                 940              Paperback   \n",
       "9                                                 312              Paperback   \n",
       "10  257\\n                            \\n           ...         Kindle Edition   \n",
       "11  309\\n                              \\n         ...              Paperback   \n",
       "12                                                305              Paperback   \n",
       "13                                                391              Paperback   \n",
       "14                                                354              Paperback   \n",
       "15                                                376              Paperback   \n",
       "\n",
       "      4       5                                                  6  \n",
       "0   4.4   8,074  https://www.amazon.in/As-Man-Thinketh-James-Al...  \n",
       "1   4.6  78,717  https://www.amazon.in/Alchemist-Paulo-Coelho/d...  \n",
       "2   4.3     910  https://www.amazon.in/That-Night-Friends-Haunt...  \n",
       "3   4.4   2,436  https://www.amazon.in/You-Only-Live-Once-Frien...  \n",
       "4   4.5  55,520  https://www.amazon.in/All-Light-We-Cannot-See-...  \n",
       "5   4.6     602  https://www.amazon.in/About-Girl-Tess-Brookes-...  \n",
       "6   4.4   4,435  https://www.amazon.in/Journey-Centre-Earth-Jul...  \n",
       "7   4.5  38,723  https://www.amazon.in/Gentleman-Moscow-Amor-To...  \n",
       "8   4.7     177  https://www.amazon.in/Best-Paulo-Coelho-Book-S...  \n",
       "9   4.5   3,660  https://www.amazon.in/Secret-Messenger-Mandy-R...  \n",
       "10  4.6  38,172  https://www.amazon.in/Anxious-People-comfortin...  \n",
       "11  4.2  17,083  https://www.amazon.in/Paper-Palace-Bestseller-...  \n",
       "12  4.1  15,171  https://www.amazon.in/Girl-astonishing-thrille...  \n",
       "13  4.1   1,045  https://www.amazon.in/Mad-Womens-Ball-Sunday-F...  \n",
       "14  4.2  27,249  https://www.amazon.in/MAID-instant-bestseller-...  \n",
       "15  4.3     768  https://www.amazon.in/Start-Something-utterly-...  "
      ]
     },
     "execution_count": 16,
     "metadata": {},
     "output_type": "execute_result"
    }
   ],
   "source": [
    "pd.DataFrame(records)"
   ]
  },
  {
   "cell_type": "code",
   "execution_count": 17,
   "id": "4a1cb9f9",
   "metadata": {},
   "outputs": [],
   "source": [
    "df = pd.DataFrame(columns=['Title', 'Author', 'Price(in ₹)', 'Book Format', 'Rating', 'Ratings Count', 'URL'])"
   ]
  },
  {
   "cell_type": "code",
   "execution_count": 18,
   "id": "236f0d5d",
   "metadata": {},
   "outputs": [],
   "source": [
    "template = 'https://www.amazon.in/s?k=best+seller+books&i=stripbooks&rh=n%3A1318160031%2Cp_n_feature_three_browse-bin%3A9141482031%2Cp_n_condition-type%3A8609960031&dc&qid=1653302841&rnid=8609959031&sprefix=best+se%2Cstripbooks%2C387&ref=sr_nr_p_n_condition-type_1'\n",
    "headers = {\"User-Agent\": \"Mozilla/5.0 (Windows NT 10.0; Win64; x64) AppleWebKit/537.36 (KHTML, like Gecko) Chrome/101.0.4951.67 Safari/537.36\"}"
   ]
  },
  {
   "cell_type": "code",
   "execution_count": 19,
   "id": "fbfe65a5",
   "metadata": {},
   "outputs": [],
   "source": [
    "for i in range(1, 21):\n",
    "\n",
    "    URL = template + '&page={}'.format(i)\n",
    "\n",
    "    page = requests.get(URL, headers=headers)\n",
    "    soup1 = BeautifulSoup(page.content, 'html.parser')\n",
    "    soup2 = BeautifulSoup(soup1.prettify(), 'html.parser')\n",
    "\n",
    "    records = []\n",
    "    results = soup2.find_all('div', attrs={'data-component-type':'s-search-result'})\n",
    "    \n",
    "    for item in results:\n",
    "        records.append(get_record(item))\n",
    "        \n",
    "    df_temp = pd.DataFrame(records, columns=['Title', 'Author', 'Price(in ₹)', 'Book Format', 'Rating', 'Ratings Count', 'URL'])\n",
    "    df = pd.concat([df, df_temp], ignore_index=True)"
   ]
  },
  {
   "cell_type": "code",
   "execution_count": 20,
   "id": "f43300dd",
   "metadata": {},
   "outputs": [
    {
     "data": {
      "text/html": [
       "<div>\n",
       "<style scoped>\n",
       "    .dataframe tbody tr th:only-of-type {\n",
       "        vertical-align: middle;\n",
       "    }\n",
       "\n",
       "    .dataframe tbody tr th {\n",
       "        vertical-align: top;\n",
       "    }\n",
       "\n",
       "    .dataframe thead th {\n",
       "        text-align: right;\n",
       "    }\n",
       "</style>\n",
       "<table border=\"1\" class=\"dataframe\">\n",
       "  <thead>\n",
       "    <tr style=\"text-align: right;\">\n",
       "      <th></th>\n",
       "      <th>Title</th>\n",
       "      <th>Author</th>\n",
       "      <th>Price(in ₹)</th>\n",
       "      <th>Book Format</th>\n",
       "      <th>Rating</th>\n",
       "      <th>Ratings Count</th>\n",
       "      <th>URL</th>\n",
       "    </tr>\n",
       "  </thead>\n",
       "  <tbody>\n",
       "    <tr>\n",
       "      <th>0</th>\n",
       "      <td>As a Man Thinketh</td>\n",
       "      <td></td>\n",
       "      <td>69</td>\n",
       "      <td>Paperback</td>\n",
       "      <td>4.4</td>\n",
       "      <td></td>\n",
       "      <td>https://www.amazon.in/As-Man-Thinketh-James-Al...</td>\n",
       "    </tr>\n",
       "    <tr>\n",
       "      <th>1</th>\n",
       "      <td>The Alchemist</td>\n",
       "      <td></td>\n",
       "      <td>227</td>\n",
       "      <td>Paperback</td>\n",
       "      <td>4.6</td>\n",
       "      <td></td>\n",
       "      <td>https://www.amazon.in/Alchemist-Paulo-Coelho/d...</td>\n",
       "    </tr>\n",
       "    <tr>\n",
       "      <th>2</th>\n",
       "      <td>That Night: Four Friends. Twenty Years. One Ha...</td>\n",
       "      <td></td>\n",
       "      <td>206</td>\n",
       "      <td>Paperback</td>\n",
       "      <td>4.3</td>\n",
       "      <td></td>\n",
       "      <td>https://www.amazon.in/That-Night-Friends-Haunt...</td>\n",
       "    </tr>\n",
       "    <tr>\n",
       "      <th>3</th>\n",
       "      <td>You Only Live Once: One for Passion Two for Lo...</td>\n",
       "      <td></td>\n",
       "      <td>247</td>\n",
       "      <td>Paperback</td>\n",
       "      <td>4.4</td>\n",
       "      <td></td>\n",
       "      <td>https://www.amazon.in/You-Only-Live-Once-Frien...</td>\n",
       "    </tr>\n",
       "    <tr>\n",
       "      <th>4</th>\n",
       "      <td>All the Light We Cannot See: The Breathtaking ...</td>\n",
       "      <td></td>\n",
       "      <td>299\\n                           \\n            ...</td>\n",
       "      <td>Kindle Edition</td>\n",
       "      <td>4.5</td>\n",
       "      <td></td>\n",
       "      <td>https://www.amazon.in/All-Light-We-Cannot-See-...</td>\n",
       "    </tr>\n",
       "    <tr>\n",
       "      <th>...</th>\n",
       "      <td>...</td>\n",
       "      <td>...</td>\n",
       "      <td>...</td>\n",
       "      <td>...</td>\n",
       "      <td>...</td>\n",
       "      <td>...</td>\n",
       "      <td>...</td>\n",
       "    </tr>\n",
       "    <tr>\n",
       "      <th>315</th>\n",
       "      <td>When Love Came Calling</td>\n",
       "      <td>Preeti Shenoy</td>\n",
       "      <td>98</td>\n",
       "      <td>Paperback</td>\n",
       "      <td>4.4</td>\n",
       "      <td>1,217</td>\n",
       "      <td>https://www.amazon.in/When-Love-Calling-Preeti...</td>\n",
       "    </tr>\n",
       "    <tr>\n",
       "      <th>316</th>\n",
       "      <td>Betty: The International Bestseller</td>\n",
       "      <td>Tiffany McDaniel</td>\n",
       "      <td>541</td>\n",
       "      <td>Paperback</td>\n",
       "      <td>4.5</td>\n",
       "      <td>1,535</td>\n",
       "      <td>https://www.amazon.in/Betty-International-Best...</td>\n",
       "    </tr>\n",
       "    <tr>\n",
       "      <th>317</th>\n",
       "      <td>I Have Something to Tell You: The most thought...</td>\n",
       "      <td>Susan Lewis</td>\n",
       "      <td>577\\n                           \\n            ...</td>\n",
       "      <td>Kindle Edition</td>\n",
       "      <td>4.2</td>\n",
       "      <td>5,665</td>\n",
       "      <td>https://www.amazon.in/Have-Something-Tell-You-...</td>\n",
       "    </tr>\n",
       "    <tr>\n",
       "      <th>318</th>\n",
       "      <td>Eleven Minutes</td>\n",
       "      <td>Paulo Coelho</td>\n",
       "      <td>260</td>\n",
       "      <td>Paperback</td>\n",
       "      <td>4.4</td>\n",
       "      <td>3,273</td>\n",
       "      <td>https://www.amazon.in/Eleven-Minutes-Paulo-Coe...</td>\n",
       "    </tr>\n",
       "    <tr>\n",
       "      <th>319</th>\n",
       "      <td>Angel Falls: A Novel</td>\n",
       "      <td>Kristin Hannah</td>\n",
       "      <td>314</td>\n",
       "      <td>Mass Market Paperback</td>\n",
       "      <td>4.4</td>\n",
       "      <td>5,631</td>\n",
       "      <td>https://www.amazon.in/Angel-Falls-Novel-Kristi...</td>\n",
       "    </tr>\n",
       "  </tbody>\n",
       "</table>\n",
       "<p>320 rows × 7 columns</p>\n",
       "</div>"
      ],
      "text/plain": [
       "                                                 Title            Author  \\\n",
       "0                                    As a Man Thinketh                     \n",
       "1                                        The Alchemist                     \n",
       "2    That Night: Four Friends. Twenty Years. One Ha...                     \n",
       "3    You Only Live Once: One for Passion Two for Lo...                     \n",
       "4    All the Light We Cannot See: The Breathtaking ...                     \n",
       "..                                                 ...               ...   \n",
       "315                             When Love Came Calling     Preeti Shenoy   \n",
       "316                Betty: The International Bestseller  Tiffany McDaniel   \n",
       "317  I Have Something to Tell You: The most thought...       Susan Lewis   \n",
       "318                                     Eleven Minutes      Paulo Coelho   \n",
       "319                               Angel Falls: A Novel    Kristin Hannah   \n",
       "\n",
       "                                           Price(in ₹)            Book Format  \\\n",
       "0                                                   69              Paperback   \n",
       "1                                                  227              Paperback   \n",
       "2                                                  206              Paperback   \n",
       "3                                                  247              Paperback   \n",
       "4    299\\n                           \\n            ...         Kindle Edition   \n",
       "..                                                 ...                    ...   \n",
       "315                                                 98              Paperback   \n",
       "316                                                541              Paperback   \n",
       "317  577\\n                           \\n            ...         Kindle Edition   \n",
       "318                                                260              Paperback   \n",
       "319                                                314  Mass Market Paperback   \n",
       "\n",
       "    Rating Ratings Count                                                URL  \n",
       "0      4.4                https://www.amazon.in/As-Man-Thinketh-James-Al...  \n",
       "1      4.6                https://www.amazon.in/Alchemist-Paulo-Coelho/d...  \n",
       "2      4.3                https://www.amazon.in/That-Night-Friends-Haunt...  \n",
       "3      4.4                https://www.amazon.in/You-Only-Live-Once-Frien...  \n",
       "4      4.5                https://www.amazon.in/All-Light-We-Cannot-See-...  \n",
       "..     ...           ...                                                ...  \n",
       "315    4.4         1,217  https://www.amazon.in/When-Love-Calling-Preeti...  \n",
       "316    4.5         1,535  https://www.amazon.in/Betty-International-Best...  \n",
       "317    4.2         5,665  https://www.amazon.in/Have-Something-Tell-You-...  \n",
       "318    4.4         3,273  https://www.amazon.in/Eleven-Minutes-Paulo-Coe...  \n",
       "319    4.4         5,631  https://www.amazon.in/Angel-Falls-Novel-Kristi...  \n",
       "\n",
       "[320 rows x 7 columns]"
      ]
     },
     "execution_count": 20,
     "metadata": {},
     "output_type": "execute_result"
    }
   ],
   "source": [
    "df"
   ]
  },
  {
   "cell_type": "code",
   "execution_count": 21,
   "id": "a2f790ce",
   "metadata": {},
   "outputs": [],
   "source": [
    "df.to_csv('BestSellingContemporaryFiction.csv', index=False)"
   ]
  },
  {
   "cell_type": "code",
   "execution_count": null,
   "id": "e699b964",
   "metadata": {},
   "outputs": [],
   "source": []
  },
  {
   "cell_type": "code",
   "execution_count": null,
   "id": "763fc7fe",
   "metadata": {},
   "outputs": [],
   "source": []
  }
 ],
 "metadata": {
  "kernelspec": {
   "display_name": "Python 3",
   "language": "python",
   "name": "python3"
  },
  "language_info": {
   "codemirror_mode": {
    "name": "ipython",
    "version": 3
   },
   "file_extension": ".py",
   "mimetype": "text/x-python",
   "name": "python",
   "nbconvert_exporter": "python",
   "pygments_lexer": "ipython3",
   "version": "3.8.8"
  }
 },
 "nbformat": 4,
 "nbformat_minor": 5
}
